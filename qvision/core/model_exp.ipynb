{
 "cells": [
  {
   "cell_type": "markdown",
   "metadata": {},
   "source": [
    "# 1. Installing Dependencies"
   ]
  },
  {
   "cell_type": "markdown",
   "metadata": {},
   "source": [
    "!pip install -q datasets transformers accelerate timm\n",
    "!pip install -q -U albumentations>=1.4.5 torchmetrics pycocotools"
   ]
  },
  {
   "cell_type": "code",
   "execution_count": null,
   "metadata": {
    "vscode": {
     "languageId": "plaintext"
    }
   },
   "outputs": [],
   "source": [
    "import os\n",
    "import cv2\n",
    "import glob\n",
    "import numpy as np\n",
    "import pandas as pd\n",
    "import matplotlib.pyplot as plt"
   ]
  },
  {
   "cell_type": "code",
   "execution_count": null,
   "metadata": {
    "vscode": {
     "languageId": "plaintext"
    }
   },
   "outputs": [],
   "source": [
    "import torch\n",
    "import torch.nn as nn\n",
    "from torch.utils.data import Dataset, DataLoader\n",
    "from torch.utils.data.sampler import SubsetRandomSampler, RandomSampler, SequentialSampler\n",
    "from torch.optim import Adam, SGD\n",
    "import torch.nn.functional as F\n",
    "\n",
    "import torchvision\n",
    "from torchvision.transforms import transforms\n",
    "from torchvision.models import models"
   ]
  },
  {
   "cell_type": "markdown",
   "metadata": {},
   "source": [
    "# Building and Playing with DATA!"
   ]
  },
  {
   "cell_type": "markdown",
   "metadata": {},
   "source": [
    "from roboflow import Roboflow\n",
    "rf = Roboflow(api_key=\"here\")\n",
    "project = rf.workspace(\"roboflow-100\").project(\"uno-deck\")\n",
    "version = project.version(2)\n",
    "dataset = version.download(\"yolov8\")"
   ]
  },
  {
   "cell_type": "code",
   "execution_count": null,
   "metadata": {
    "vscode": {
     "languageId": "plaintext"
    }
   },
   "outputs": [],
   "source": [
    "img_path = '/content/uno.jpg'\n",
    "\n",
    "\n",
    "model_1 = YOLO('yolov8n.pt')\n",
    "model_2 = YOLO('yolov8n.pt')\n",
    "model_3 = YOLO('yolov8n.pt')\n",
    "model_4 = YOLO('yolov8n.pt')\n",
    "\n",
    "\n",
    "img = cv2.imread(img_path) \n",
    "\n",
    "result_1 = model_1(img, stream = True) \n",
    "result_2 = model_2(img, stream = True) \n",
    "result_3 = model_3(img, stream = True) \n",
    "result_4 = model_4(img, stream = True)"
   ]
  },
  {
   "cell_type": "code",
   "execution_count": null,
   "metadata": {
    "vscode": {
     "languageId": "plaintext"
    }
   },
   "outputs": [],
   "source": [
    "from PIL import Image, ImageDraw, ImageFont\n",
    "\n",
    "imgt = Image.open('/content/uno.jpg')\n",
    "draw = ImageDraw.Draw(imgt)\n",
    "class_names = model_1.names\n",
    "\n",
    "for result in result_1:\n",
    "  boxes = result.boxes.xyxy.cpu().numpy()\n",
    "  classes = result.boxes.cls.cpu().numpy()\n",
    "  score = result.boxes.conf.cpu().numpy()\n",
    "\n",
    "  for box, cls, sc in zip(boxes, classes, score):\n",
    "    x1,y1,x2,y2 = [int(v) for v in box]\n",
    "    draw.rectangle([x1,y1,x2,y2], outline = 'red', width = 3)\n",
    "    label = f\"{class_names[cls]}({sc:.2f})\"\n",
    "    draw.text((x1,y1-10), label, fill = 'red')\n",
    "\n",
    "display(imgt)"
   ]
  },
  {
   "cell_type": "code",
   "execution_count": null,
   "metadata": {
    "vscode": {
     "languageId": "plaintext"
    }
   },
   "outputs": [],
   "source": [
    "def draw_predictions(image, results, model_name):\n",
    "    \n",
    "    img_copy = image.copy()\n",
    "    draw = ImageDraw.Draw(img_copy)\n",
    "    class_names = results[0].names\n",
    "    \n",
    "    for result in results:\n",
    "        boxes = result.boxes.xyxy.cpu().numpy()\n",
    "        classes = result.boxes.cls.cpu().numpy()\n",
    "        scores = result.boxes.conf.cpu().numpy()\n",
    "        \n",
    "        for box, cls, score in zip(boxes, classes, scores):\n",
    "            x1, y1, x2, y2 = [int(v) for v in box]\n",
    "            draw.rectangle([x1, y1, x2, y2], outline='red', width=3)\n",
    "            label = f\"{class_names[int(cls)]}({score:.2f})\"\n",
    "            draw.text((x1, y1-10), label, fill='red')\n",
    "    \n",
    "    return img_copy\n"
   ]
  }
 ],
 "metadata": {
  "language_info": {
   "name": "python"
  }
 },
 "nbformat": 4,
 "nbformat_minor": 2
}
